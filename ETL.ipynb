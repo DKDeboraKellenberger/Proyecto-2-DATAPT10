{
 "cells": [
  {
   "cell_type": "code",
   "execution_count": 66,
   "metadata": {},
   "outputs": [],
   "source": [
    "import pandas as pd"
   ]
  },
  {
   "cell_type": "code",
   "execution_count": 67,
   "metadata": {},
   "outputs": [
    {
     "name": "stdout",
     "output_type": "stream",
     "text": [
      "['Acc_vel_loc_sinrangos', 'Velocidad_sin_Rangos', 'Accesos_tecnologia_localidad', 'Velocidad % por prov', 'Totales VMD', 'Totales Accesos Por Tecnología', 'Accesos Por Tecnología', 'Penetración-poblacion', 'Penetracion-hogares', 'Penetracion-totales', 'Totales Accesos por velocidad', 'Accesos por velocidad', 'Dial-BAf', 'Totales Dial-BAf', 'Ingresos ']\n"
     ]
    }
   ],
   "source": [
    "# Se carga el archivo y reviso las hojas del Excel\n",
    "internet = pd.ExcelFile(r\"Data\\Internet.xlsx\")\n",
    "print(internet.sheet_names)"
   ]
  },
  {
   "cell_type": "code",
   "execution_count": 68,
   "metadata": {},
   "outputs": [],
   "source": [
    "# Guardo en dataframes las hojas del archivo 'Internet' que voy a tomar para el análisis\n",
    "accesos_por_tecnologia = internet.parse('Accesos Por Tecnología')\n",
    "penetracion_poblacion = internet.parse('Penetración-poblacion')\n",
    "penetracion_hogares = internet.parse('Penetracion-hogares')\n",
    "accesos_por_velocidad = internet.parse('Accesos por velocidad')\n",
    "velocidad_por_prov = internet.parse('Velocidad % por prov')"
   ]
  },
  {
   "cell_type": "markdown",
   "metadata": {},
   "source": [
    "Primeramente comienzo a realizar un Dataframe con info discriminada por provincias"
   ]
  },
  {
   "cell_type": "markdown",
   "metadata": {},
   "source": [
    "Reviso la información de cada dataframe: cantidad de columnas, nulos, tipos de datos, etc., para considerar cómo armar la información para posterior análisis."
   ]
  },
  {
   "cell_type": "code",
   "execution_count": 69,
   "metadata": {},
   "outputs": [
    {
     "name": "stdout",
     "output_type": "stream",
     "text": [
      "<class 'pandas.core.frame.DataFrame'>\n",
      "RangeIndex: 986 entries, 0 to 985\n",
      "Data columns (total 9 columns):\n",
      " #   Column        Non-Null Count  Dtype  \n",
      "---  ------        --------------  -----  \n",
      " 0   Año           985 non-null    object \n",
      " 1   Trimestre     985 non-null    object \n",
      " 2   Provincia     984 non-null    object \n",
      " 3   ADSL          984 non-null    float64\n",
      " 4   Cablemodem    984 non-null    float64\n",
      " 5   Fibra óptica  984 non-null    float64\n",
      " 6   Wireless      984 non-null    float64\n",
      " 7   Otros         984 non-null    float64\n",
      " 8   Total         984 non-null    float64\n",
      "dtypes: float64(6), object(3)\n",
      "memory usage: 69.5+ KB\n"
     ]
    }
   ],
   "source": [
    "accesos_por_tecnologia.info()"
   ]
  },
  {
   "cell_type": "code",
   "execution_count": 70,
   "metadata": {},
   "outputs": [
    {
     "name": "stdout",
     "output_type": "stream",
     "text": [
      "<class 'pandas.core.frame.DataFrame'>\n",
      "RangeIndex: 984 entries, 0 to 983\n",
      "Data columns (total 4 columns):\n",
      " #   Column                    Non-Null Count  Dtype  \n",
      "---  ------                    --------------  -----  \n",
      " 0   Año                       984 non-null    int64  \n",
      " 1   Trimestre                 984 non-null    int64  \n",
      " 2   Provincia                 984 non-null    object \n",
      " 3   Accesos por cada 100 hab  984 non-null    float64\n",
      "dtypes: float64(1), int64(2), object(1)\n",
      "memory usage: 30.9+ KB\n"
     ]
    }
   ],
   "source": [
    "penetracion_poblacion.info()"
   ]
  },
  {
   "cell_type": "code",
   "execution_count": 71,
   "metadata": {},
   "outputs": [
    {
     "name": "stdout",
     "output_type": "stream",
     "text": [
      "<class 'pandas.core.frame.DataFrame'>\n",
      "RangeIndex: 984 entries, 0 to 983\n",
      "Data columns (total 4 columns):\n",
      " #   Column                        Non-Null Count  Dtype  \n",
      "---  ------                        --------------  -----  \n",
      " 0   Año                           984 non-null    int64  \n",
      " 1   Trimestre                     984 non-null    int64  \n",
      " 2   Provincia                     984 non-null    object \n",
      " 3   Accesos por cada 100 hogares  984 non-null    float64\n",
      "dtypes: float64(1), int64(2), object(1)\n",
      "memory usage: 30.9+ KB\n"
     ]
    }
   ],
   "source": [
    "penetracion_hogares.info()"
   ]
  },
  {
   "cell_type": "code",
   "execution_count": 72,
   "metadata": {},
   "outputs": [
    {
     "name": "stdout",
     "output_type": "stream",
     "text": [
      "<class 'pandas.core.frame.DataFrame'>\n",
      "RangeIndex: 984 entries, 0 to 983\n",
      "Data columns (total 12 columns):\n",
      " #   Column               Non-Null Count  Dtype  \n",
      "---  ------               --------------  -----  \n",
      " 0   Año                  984 non-null    int64  \n",
      " 1   Trimestre            984 non-null    int64  \n",
      " 2   Provincia            984 non-null    object \n",
      " 3   HASTA 512 kbps       984 non-null    float64\n",
      " 4   + 512 Kbps - 1 Mbps  984 non-null    float64\n",
      " 5   + 1 Mbps - 6 Mbps    984 non-null    float64\n",
      " 6   + 6 Mbps - 10 Mbps   984 non-null    float64\n",
      " 7   + 10 Mbps - 20 Mbps  984 non-null    float64\n",
      " 8   + 20 Mbps - 30 Mbps  984 non-null    float64\n",
      " 9   + 30 Mbps            984 non-null    float64\n",
      " 10  OTROS                978 non-null    float64\n",
      " 11  Total                984 non-null    float64\n",
      "dtypes: float64(9), int64(2), object(1)\n",
      "memory usage: 92.4+ KB\n"
     ]
    }
   ],
   "source": [
    "accesos_por_velocidad.info()"
   ]
  },
  {
   "cell_type": "code",
   "execution_count": 73,
   "metadata": {},
   "outputs": [
    {
     "name": "stdout",
     "output_type": "stream",
     "text": [
      "<class 'pandas.core.frame.DataFrame'>\n",
      "RangeIndex: 984 entries, 0 to 983\n",
      "Data columns (total 4 columns):\n",
      " #   Column                  Non-Null Count  Dtype  \n",
      "---  ------                  --------------  -----  \n",
      " 0   Año                     984 non-null    int64  \n",
      " 1   Trimestre               984 non-null    int64  \n",
      " 2   Provincia               984 non-null    object \n",
      " 3   Mbps (Media de bajada)  984 non-null    float64\n",
      "dtypes: float64(1), int64(2), object(1)\n",
      "memory usage: 30.9+ KB\n"
     ]
    }
   ],
   "source": [
    "velocidad_por_prov.info()"
   ]
  },
  {
   "cell_type": "markdown",
   "metadata": {},
   "source": [
    "Accesos por Tecnología"
   ]
  },
  {
   "cell_type": "code",
   "execution_count": 74,
   "metadata": {},
   "outputs": [
    {
     "data": {
      "text/html": [
       "<div>\n",
       "<style scoped>\n",
       "    .dataframe tbody tr th:only-of-type {\n",
       "        vertical-align: middle;\n",
       "    }\n",
       "\n",
       "    .dataframe tbody tr th {\n",
       "        vertical-align: top;\n",
       "    }\n",
       "\n",
       "    .dataframe thead th {\n",
       "        text-align: right;\n",
       "    }\n",
       "</style>\n",
       "<table border=\"1\" class=\"dataframe\">\n",
       "  <thead>\n",
       "    <tr style=\"text-align: right;\">\n",
       "      <th></th>\n",
       "      <th>Año</th>\n",
       "      <th>Trimestre</th>\n",
       "      <th>Provincia</th>\n",
       "      <th>ADSL</th>\n",
       "      <th>Cablemodem</th>\n",
       "      <th>Fibra óptica</th>\n",
       "      <th>Wireless</th>\n",
       "      <th>Otros</th>\n",
       "      <th>Total</th>\n",
       "    </tr>\n",
       "  </thead>\n",
       "  <tbody>\n",
       "    <tr>\n",
       "      <th>983</th>\n",
       "      <td>2014</td>\n",
       "      <td>1</td>\n",
       "      <td>Tucumán</td>\n",
       "      <td>129717.0</td>\n",
       "      <td>83.0</td>\n",
       "      <td>121.0</td>\n",
       "      <td>13.0</td>\n",
       "      <td>98.0</td>\n",
       "      <td>130032.0</td>\n",
       "    </tr>\n",
       "    <tr>\n",
       "      <th>984</th>\n",
       "      <td>NaN</td>\n",
       "      <td>NaN</td>\n",
       "      <td>NaN</td>\n",
       "      <td>NaN</td>\n",
       "      <td>NaN</td>\n",
       "      <td>NaN</td>\n",
       "      <td>NaN</td>\n",
       "      <td>NaN</td>\n",
       "      <td>NaN</td>\n",
       "    </tr>\n",
       "    <tr>\n",
       "      <th>985</th>\n",
       "      <td>*</td>\n",
       "      <td>Los datos provinciales no coinciden a nivel na...</td>\n",
       "      <td>NaN</td>\n",
       "      <td>NaN</td>\n",
       "      <td>NaN</td>\n",
       "      <td>NaN</td>\n",
       "      <td>NaN</td>\n",
       "      <td>NaN</td>\n",
       "      <td>NaN</td>\n",
       "    </tr>\n",
       "  </tbody>\n",
       "</table>\n",
       "</div>"
      ],
      "text/plain": [
       "      Año                                          Trimestre Provincia  \\\n",
       "983  2014                                                  1   Tucumán   \n",
       "984   NaN                                                NaN       NaN   \n",
       "985     *  Los datos provinciales no coinciden a nivel na...       NaN   \n",
       "\n",
       "         ADSL  Cablemodem  Fibra óptica  Wireless  Otros     Total  \n",
       "983  129717.0        83.0         121.0      13.0   98.0  130032.0  \n",
       "984       NaN         NaN           NaN       NaN    NaN       NaN  \n",
       "985       NaN         NaN           NaN       NaN    NaN       NaN  "
      ]
     },
     "execution_count": 74,
     "metadata": {},
     "output_type": "execute_result"
    }
   ],
   "source": [
    "# Busco el origen de la diferencia de filas en las dos primeras columnas y lo soluciono\n",
    "accesos_por_tecnologia.tail(3)"
   ]
  },
  {
   "cell_type": "code",
   "execution_count": 75,
   "metadata": {},
   "outputs": [
    {
     "data": {
      "text/html": [
       "<div>\n",
       "<style scoped>\n",
       "    .dataframe tbody tr th:only-of-type {\n",
       "        vertical-align: middle;\n",
       "    }\n",
       "\n",
       "    .dataframe tbody tr th {\n",
       "        vertical-align: top;\n",
       "    }\n",
       "\n",
       "    .dataframe thead th {\n",
       "        text-align: right;\n",
       "    }\n",
       "</style>\n",
       "<table border=\"1\" class=\"dataframe\">\n",
       "  <thead>\n",
       "    <tr style=\"text-align: right;\">\n",
       "      <th></th>\n",
       "      <th>Año</th>\n",
       "      <th>Trimestre</th>\n",
       "      <th>Provincia</th>\n",
       "      <th>ADSL</th>\n",
       "      <th>Cablemodem</th>\n",
       "      <th>Fibra óptica</th>\n",
       "      <th>Wireless</th>\n",
       "      <th>Otros</th>\n",
       "      <th>Total</th>\n",
       "    </tr>\n",
       "  </thead>\n",
       "  <tbody>\n",
       "    <tr>\n",
       "      <th>981</th>\n",
       "      <td>2014</td>\n",
       "      <td>1</td>\n",
       "      <td>Santiago Del Estero</td>\n",
       "      <td>32567.0</td>\n",
       "      <td>3598.0</td>\n",
       "      <td>19.0</td>\n",
       "      <td>915.0</td>\n",
       "      <td>34.0</td>\n",
       "      <td>37133.0</td>\n",
       "    </tr>\n",
       "    <tr>\n",
       "      <th>982</th>\n",
       "      <td>2014</td>\n",
       "      <td>1</td>\n",
       "      <td>Tierra Del Fuego</td>\n",
       "      <td>21618.0</td>\n",
       "      <td>2837.0</td>\n",
       "      <td>648.0</td>\n",
       "      <td>1.0</td>\n",
       "      <td>2934.0</td>\n",
       "      <td>28038.0</td>\n",
       "    </tr>\n",
       "    <tr>\n",
       "      <th>983</th>\n",
       "      <td>2014</td>\n",
       "      <td>1</td>\n",
       "      <td>Tucumán</td>\n",
       "      <td>129717.0</td>\n",
       "      <td>83.0</td>\n",
       "      <td>121.0</td>\n",
       "      <td>13.0</td>\n",
       "      <td>98.0</td>\n",
       "      <td>130032.0</td>\n",
       "    </tr>\n",
       "  </tbody>\n",
       "</table>\n",
       "</div>"
      ],
      "text/plain": [
       "      Año Trimestre            Provincia      ADSL  Cablemodem  Fibra óptica  \\\n",
       "981  2014         1  Santiago Del Estero   32567.0      3598.0          19.0   \n",
       "982  2014         1     Tierra Del Fuego   21618.0      2837.0         648.0   \n",
       "983  2014         1              Tucumán  129717.0        83.0         121.0   \n",
       "\n",
       "     Wireless   Otros     Total  \n",
       "981     915.0    34.0   37133.0  \n",
       "982       1.0  2934.0   28038.0  \n",
       "983      13.0    98.0  130032.0  "
      ]
     },
     "execution_count": 75,
     "metadata": {},
     "output_type": "execute_result"
    }
   ],
   "source": [
    "# Elimino las dos ultimas filas, que no contienen datos\n",
    "accesos_por_tecnologia = accesos_por_tecnologia.drop([984, 985])\n",
    "\n",
    "# corroboro \n",
    "accesos_por_tecnologia.tail(3)"
   ]
  },
  {
   "cell_type": "code",
   "execution_count": 76,
   "metadata": {},
   "outputs": [
    {
     "data": {
      "text/plain": [
       "array([2024, 2023, 2022, 2021, 2020, 2019, '2019 *', 2018, 2017, 2016,\n",
       "       2015, 2014], dtype=object)"
      ]
     },
     "execution_count": 76,
     "metadata": {},
     "output_type": "execute_result"
    }
   ],
   "source": [
    "# Identifico el error en la columna 'Año' para luego convertir a tipo int \n",
    "accesos_por_tecnologia['Año'].unique()"
   ]
  },
  {
   "cell_type": "code",
   "execution_count": 77,
   "metadata": {},
   "outputs": [
    {
     "name": "stdout",
     "output_type": "stream",
     "text": [
      "[2024 2023 2022 2021 2020 2019 2018 2017 2016 2015 2014]\n"
     ]
    }
   ],
   "source": [
    "# Para solucionarlo, convierto 'Año' a str para luego extraer los primeros 4 digitos y con ellos reemplazar los valores originales (Y asi quedan sólo los años)\n",
    "accesos_por_tecnologia['Año'] = accesos_por_tecnologia['Año'].astype(str).str.extract(r'(\\d{4})')[0]\n",
    "# Convierto al tipo de dato int\n",
    "accesos_por_tecnologia['Año'] = accesos_por_tecnologia['Año'].astype(int)\n",
    "print(accesos_por_tecnologia['Año'].unique())"
   ]
  },
  {
   "cell_type": "code",
   "execution_count": 78,
   "metadata": {},
   "outputs": [
    {
     "data": {
      "text/plain": [
       "array([1, 4, 3, 2, '3 *', '2 *', '1 *'], dtype=object)"
      ]
     },
     "execution_count": 78,
     "metadata": {},
     "output_type": "execute_result"
    }
   ],
   "source": [
    "# Lo mismo con la columna 'Trimestre'\n",
    "accesos_por_tecnologia['Trimestre'].unique()"
   ]
  },
  {
   "cell_type": "code",
   "execution_count": 79,
   "metadata": {},
   "outputs": [
    {
     "name": "stdout",
     "output_type": "stream",
     "text": [
      "[1 4 3 2]\n"
     ]
    }
   ],
   "source": [
    "# Hago lo mismo que con la columna Año, solo que extraigo el primer dígito (el trimestre)\n",
    "accesos_por_tecnologia['Trimestre'] = accesos_por_tecnologia['Trimestre'].astype(str).str.extract(r'(\\d)')[0]\n",
    "accesos_por_tecnologia['Trimestre'] = accesos_por_tecnologia['Trimestre'].astype(int)\n",
    "print(accesos_por_tecnologia['Trimestre'].unique())"
   ]
  },
  {
   "cell_type": "code",
   "execution_count": 80,
   "metadata": {},
   "outputs": [],
   "source": [
    "# Renombro la columna 'Total' para mayor comprensión a futuro\n",
    "accesos_por_tecnologia.rename(columns={'Total': 'Total por tecnologia'}, inplace=True)"
   ]
  },
  {
   "cell_type": "markdown",
   "metadata": {},
   "source": [
    "Accesos por Velocidad"
   ]
  },
  {
   "cell_type": "code",
   "execution_count": 81,
   "metadata": {},
   "outputs": [
    {
     "name": "stdout",
     "output_type": "stream",
     "text": [
      "6\n"
     ]
    }
   ],
   "source": [
    "# Verifico los nulos existentes y los relleno con 0\n",
    "nulos = accesos_por_velocidad['OTROS'].isnull().sum()\n",
    "print(nulos)\n",
    "accesos_por_velocidad['OTROS'] = accesos_por_velocidad['OTROS'].fillna(0)\n"
   ]
  },
  {
   "cell_type": "code",
   "execution_count": 82,
   "metadata": {},
   "outputs": [],
   "source": [
    "# Elimino las columnas que se repiten con el dataframe 'accesos_por_tecnologia', ya que luego las concatenaré\n",
    "accesos_por_velocidad.drop(columns=['Año','Trimestre','Provincia'], inplace=True)"
   ]
  },
  {
   "cell_type": "code",
   "execution_count": 83,
   "metadata": {},
   "outputs": [],
   "source": [
    "# Renombro columnas para una mayor comprensión de las mismas\n",
    "accesos_por_velocidad = accesos_por_velocidad.rename(columns={'OTROS': 'Otras velocidades'})\n",
    "accesos_por_velocidad = accesos_por_velocidad.rename(columns={'Total': 'Total por velocidades'})"
   ]
  },
  {
   "cell_type": "markdown",
   "metadata": {},
   "source": [
    "Velocidad por provincia"
   ]
  },
  {
   "cell_type": "code",
   "execution_count": 84,
   "metadata": {},
   "outputs": [
    {
     "data": {
      "text/plain": [
       "Index(['Año', 'Trimestre', 'Provincia', 'Mbps (Media de bajada)'], dtype='object')"
      ]
     },
     "execution_count": 84,
     "metadata": {},
     "output_type": "execute_result"
    }
   ],
   "source": [
    "velocidad_por_prov.columns"
   ]
  },
  {
   "cell_type": "code",
   "execution_count": 85,
   "metadata": {},
   "outputs": [
    {
     "name": "stdout",
     "output_type": "stream",
     "text": [
      "     Mbps (Media de bajada)\n",
      "0                159.130000\n",
      "1                229.940000\n",
      "2                 91.450000\n",
      "3                107.510000\n",
      "4                 20.500000\n",
      "..                      ...\n",
      "979                3.315991\n",
      "980                3.147407\n",
      "981                2.949472\n",
      "982                3.446888\n",
      "983                3.208342\n",
      "\n",
      "[984 rows x 1 columns]\n"
     ]
    }
   ],
   "source": [
    "# Elimino las columnas que se repiten con los otros dataframes para luego poder concatenarlos\n",
    "velocidad_por_prov.drop(columns=['Año','Trimestre','Provincia'], inplace=True)\n",
    "print(velocidad_por_prov)"
   ]
  },
  {
   "cell_type": "markdown",
   "metadata": {},
   "source": [
    "Uno los dataframes para crear uno solo"
   ]
  },
  {
   "cell_type": "code",
   "execution_count": 86,
   "metadata": {},
   "outputs": [],
   "source": [
    "# Concanteno los df 'accesos_por_velocidad', 'accesos_por_tecnologia' y 'velocidad_por_prov'\n",
    "internet_prov = pd.concat([accesos_por_tecnologia, accesos_por_velocidad, velocidad_por_prov], axis=1)"
   ]
  },
  {
   "cell_type": "code",
   "execution_count": 87,
   "metadata": {},
   "outputs": [
    {
     "name": "stdout",
     "output_type": "stream",
     "text": [
      "<class 'pandas.core.frame.DataFrame'>\n",
      "RangeIndex: 984 entries, 0 to 983\n",
      "Data columns (total 19 columns):\n",
      " #   Column                  Non-Null Count  Dtype  \n",
      "---  ------                  --------------  -----  \n",
      " 0   Año                     984 non-null    int64  \n",
      " 1   Trimestre               984 non-null    int64  \n",
      " 2   Provincia               984 non-null    object \n",
      " 3   ADSL                    984 non-null    float64\n",
      " 4   Cablemodem              984 non-null    float64\n",
      " 5   Fibra óptica            984 non-null    float64\n",
      " 6   Wireless                984 non-null    float64\n",
      " 7   Otros                   984 non-null    float64\n",
      " 8   Total por tecnologia    984 non-null    float64\n",
      " 9   HASTA 512 kbps          984 non-null    float64\n",
      " 10  + 512 Kbps - 1 Mbps     984 non-null    float64\n",
      " 11  + 1 Mbps - 6 Mbps       984 non-null    float64\n",
      " 12  + 6 Mbps - 10 Mbps      984 non-null    float64\n",
      " 13  + 10 Mbps - 20 Mbps     984 non-null    float64\n",
      " 14  + 20 Mbps - 30 Mbps     984 non-null    float64\n",
      " 15  + 30 Mbps               984 non-null    float64\n",
      " 16  Otras velocidades       984 non-null    float64\n",
      " 17  Total por velocidades   984 non-null    float64\n",
      " 18  Mbps (Media de bajada)  984 non-null    float64\n",
      "dtypes: float64(16), int64(2), object(1)\n",
      "memory usage: 146.2+ KB\n"
     ]
    }
   ],
   "source": [
    "internet_prov.info()"
   ]
  },
  {
   "cell_type": "markdown",
   "metadata": {},
   "source": [
    "De los DataFrames 'penetracion_poblacion' y 'penetracion_hogares' tomo sólo las columnas pertinentes y las agrego al DataFrame 'Internet'"
   ]
  },
  {
   "cell_type": "code",
   "execution_count": 88,
   "metadata": {},
   "outputs": [],
   "source": [
    "internet_prov['Accesos por cada 100 hab'] = penetracion_poblacion['Accesos por cada 100 hab']\n",
    "internet_prov['Accesos por cada 100 hogares'] = penetracion_hogares['Accesos por cada 100 hogares']"
   ]
  },
  {
   "cell_type": "code",
   "execution_count": 89,
   "metadata": {},
   "outputs": [
    {
     "name": "stdout",
     "output_type": "stream",
     "text": [
      "<class 'pandas.core.frame.DataFrame'>\n",
      "RangeIndex: 984 entries, 0 to 983\n",
      "Data columns (total 21 columns):\n",
      " #   Column                        Non-Null Count  Dtype  \n",
      "---  ------                        --------------  -----  \n",
      " 0   Año                           984 non-null    int64  \n",
      " 1   Trimestre                     984 non-null    int64  \n",
      " 2   Provincia                     984 non-null    object \n",
      " 3   ADSL                          984 non-null    float64\n",
      " 4   Cablemodem                    984 non-null    float64\n",
      " 5   Fibra óptica                  984 non-null    float64\n",
      " 6   Wireless                      984 non-null    float64\n",
      " 7   Otros                         984 non-null    float64\n",
      " 8   Total por tecnologia          984 non-null    float64\n",
      " 9   HASTA 512 kbps                984 non-null    float64\n",
      " 10  + 512 Kbps - 1 Mbps           984 non-null    float64\n",
      " 11  + 1 Mbps - 6 Mbps             984 non-null    float64\n",
      " 12  + 6 Mbps - 10 Mbps            984 non-null    float64\n",
      " 13  + 10 Mbps - 20 Mbps           984 non-null    float64\n",
      " 14  + 20 Mbps - 30 Mbps           984 non-null    float64\n",
      " 15  + 30 Mbps                     984 non-null    float64\n",
      " 16  Otras velocidades             984 non-null    float64\n",
      " 17  Total por velocidades         984 non-null    float64\n",
      " 18  Mbps (Media de bajada)        984 non-null    float64\n",
      " 19  Accesos por cada 100 hab      984 non-null    float64\n",
      " 20  Accesos por cada 100 hogares  984 non-null    float64\n",
      "dtypes: float64(18), int64(2), object(1)\n",
      "memory usage: 161.6+ KB\n"
     ]
    }
   ],
   "source": [
    "internet_prov.info()"
   ]
  },
  {
   "cell_type": "code",
   "execution_count": 90,
   "metadata": {},
   "outputs": [],
   "source": [
    "# Le cambio el nombre a columnas para mayor comprensión\n",
    "internet_prov = internet_prov.rename(columns={'Otros': 'Otras tecnologías'})"
   ]
  },
  {
   "cell_type": "code",
   "execution_count": 98,
   "metadata": {},
   "outputs": [],
   "source": [
    "# Guardo el dataframe en formato parquet\n",
    "internet_prov.to_parquet(r'Data\\internet_prov.parquet', engine='auto', compression='snappy')"
   ]
  },
  {
   "cell_type": "markdown",
   "metadata": {},
   "source": [
    "Armo un Dataframe para analizar los datos a nivel nación con la hoja 'Ingresos'"
   ]
  },
  {
   "cell_type": "code",
   "execution_count": 92,
   "metadata": {},
   "outputs": [
    {
     "name": "stdout",
     "output_type": "stream",
     "text": [
      "<class 'pandas.core.frame.DataFrame'>\n",
      "RangeIndex: 41 entries, 0 to 40\n",
      "Data columns (total 4 columns):\n",
      " #   Column                     Non-Null Count  Dtype  \n",
      "---  ------                     --------------  -----  \n",
      " 0   Año                        41 non-null     int64  \n",
      " 1   Trimestre                  41 non-null     int64  \n",
      " 2   Ingresos (miles de pesos)  41 non-null     float64\n",
      " 3   Periodo                    41 non-null     object \n",
      "dtypes: float64(1), int64(2), object(1)\n",
      "memory usage: 1.4+ KB\n"
     ]
    }
   ],
   "source": [
    "ingresos  = internet.parse('Ingresos ')\n",
    "ingresos.info()"
   ]
  },
  {
   "cell_type": "code",
   "execution_count": 93,
   "metadata": {},
   "outputs": [
    {
     "name": "stdout",
     "output_type": "stream",
     "text": [
      "[2024 2023 2033 2022 2021 2020 2019 2018 2017 2016 2015 2014]\n"
     ]
    }
   ],
   "source": [
    "print(ingresos['Año'].unique())"
   ]
  },
  {
   "cell_type": "code",
   "execution_count": 94,
   "metadata": {},
   "outputs": [
    {
     "data": {
      "text/html": [
       "<div>\n",
       "<style scoped>\n",
       "    .dataframe tbody tr th:only-of-type {\n",
       "        vertical-align: middle;\n",
       "    }\n",
       "\n",
       "    .dataframe tbody tr th {\n",
       "        vertical-align: top;\n",
       "    }\n",
       "\n",
       "    .dataframe thead th {\n",
       "        text-align: right;\n",
       "    }\n",
       "</style>\n",
       "<table border=\"1\" class=\"dataframe\">\n",
       "  <thead>\n",
       "    <tr style=\"text-align: right;\">\n",
       "      <th></th>\n",
       "      <th>Año</th>\n",
       "      <th>Trimestre</th>\n",
       "      <th>Ingresos (miles de pesos)</th>\n",
       "      <th>Periodo</th>\n",
       "    </tr>\n",
       "  </thead>\n",
       "  <tbody>\n",
       "    <tr>\n",
       "      <th>0</th>\n",
       "      <td>2024</td>\n",
       "      <td>1</td>\n",
       "      <td>2.804191e+08</td>\n",
       "      <td>Ene-Mar 2024</td>\n",
       "    </tr>\n",
       "    <tr>\n",
       "      <th>1</th>\n",
       "      <td>2023</td>\n",
       "      <td>4</td>\n",
       "      <td>1.673760e+08</td>\n",
       "      <td>Oct-Dic 2023</td>\n",
       "    </tr>\n",
       "    <tr>\n",
       "      <th>2</th>\n",
       "      <td>2023</td>\n",
       "      <td>3</td>\n",
       "      <td>1.331066e+08</td>\n",
       "      <td>Jul-Sept 2023</td>\n",
       "    </tr>\n",
       "    <tr>\n",
       "      <th>3</th>\n",
       "      <td>2023</td>\n",
       "      <td>2</td>\n",
       "      <td>1.180603e+08</td>\n",
       "      <td>Jun-Mar 2023</td>\n",
       "    </tr>\n",
       "    <tr>\n",
       "      <th>4</th>\n",
       "      <td>2033</td>\n",
       "      <td>1</td>\n",
       "      <td>1.041350e+08</td>\n",
       "      <td>Ene-Mar 2023</td>\n",
       "    </tr>\n",
       "    <tr>\n",
       "      <th>5</th>\n",
       "      <td>2022</td>\n",
       "      <td>4</td>\n",
       "      <td>7.244348e+07</td>\n",
       "      <td>Oct-Dic 2022</td>\n",
       "    </tr>\n",
       "    <tr>\n",
       "      <th>6</th>\n",
       "      <td>2022</td>\n",
       "      <td>3</td>\n",
       "      <td>6.408678e+07</td>\n",
       "      <td>Jul-Sept 2022</td>\n",
       "    </tr>\n",
       "    <tr>\n",
       "      <th>7</th>\n",
       "      <td>2022</td>\n",
       "      <td>2</td>\n",
       "      <td>6.041950e+07</td>\n",
       "      <td>Abr-Jun 2022</td>\n",
       "    </tr>\n",
       "    <tr>\n",
       "      <th>8</th>\n",
       "      <td>2022</td>\n",
       "      <td>1</td>\n",
       "      <td>5.521931e+07</td>\n",
       "      <td>Ene-Mar 2022</td>\n",
       "    </tr>\n",
       "    <tr>\n",
       "      <th>9</th>\n",
       "      <td>2021</td>\n",
       "      <td>4</td>\n",
       "      <td>4.546789e+07</td>\n",
       "      <td>Oct-Dic 2021</td>\n",
       "    </tr>\n",
       "  </tbody>\n",
       "</table>\n",
       "</div>"
      ],
      "text/plain": [
       "    Año  Trimestre  Ingresos (miles de pesos)        Periodo\n",
       "0  2024          1               2.804191e+08   Ene-Mar 2024\n",
       "1  2023          4               1.673760e+08   Oct-Dic 2023\n",
       "2  2023          3               1.331066e+08  Jul-Sept 2023\n",
       "3  2023          2               1.180603e+08   Jun-Mar 2023\n",
       "4  2033          1               1.041350e+08   Ene-Mar 2023\n",
       "5  2022          4               7.244348e+07   Oct-Dic 2022\n",
       "6  2022          3               6.408678e+07  Jul-Sept 2022\n",
       "7  2022          2               6.041950e+07   Abr-Jun 2022\n",
       "8  2022          1               5.521931e+07   Ene-Mar 2022\n",
       "9  2021          4               4.546789e+07   Oct-Dic 2021"
      ]
     },
     "execution_count": 94,
     "metadata": {},
     "output_type": "execute_result"
    }
   ],
   "source": [
    "ingresos.head(10)"
   ]
  },
  {
   "cell_type": "markdown",
   "metadata": {},
   "source": [
    "Encuentro que hay un error de carga: 2033, donde debería ser 2023 trimestre 1. Lo modifico"
   ]
  },
  {
   "cell_type": "code",
   "execution_count": 95,
   "metadata": {},
   "outputs": [],
   "source": [
    "ingresos.loc[ingresos['Año'] == 2033, 'Año'] = 2023"
   ]
  },
  {
   "cell_type": "code",
   "execution_count": 96,
   "metadata": {},
   "outputs": [
    {
     "name": "stdout",
     "output_type": "stream",
     "text": [
      "[2024 2023 2022 2021 2020 2019 2018 2017 2016 2015 2014]\n"
     ]
    }
   ],
   "source": [
    "print(ingresos['Año'].unique())"
   ]
  },
  {
   "cell_type": "code",
   "execution_count": 97,
   "metadata": {},
   "outputs": [],
   "source": [
    "# Guardo el dataframe en formato parquet\n",
    "ingresos.to_parquet(r'Data\\ingresos.parquet', engine='auto', compression='snappy')"
   ]
  }
 ],
 "metadata": {
  "kernelspec": {
   "display_name": "venv",
   "language": "python",
   "name": "python3"
  },
  "language_info": {
   "codemirror_mode": {
    "name": "ipython",
    "version": 3
   },
   "file_extension": ".py",
   "mimetype": "text/x-python",
   "name": "python",
   "nbconvert_exporter": "python",
   "pygments_lexer": "ipython3",
   "version": "3.12.4"
  }
 },
 "nbformat": 4,
 "nbformat_minor": 2
}
